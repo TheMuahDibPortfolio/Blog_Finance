{
  "nbformat": 4,
  "nbformat_minor": 0,
  "metadata": {
    "colab": {
      "name": "2022-05-02.ipynb",
      "provenance": []
    },
    "kernelspec": {
      "name": "python3",
      "display_name": "Python 3"
    },
    "language_info": {
      "name": "python"
    }
  },
  "cells": [
    {
      "cell_type": "markdown",
      "source": [
        "# Portfolio Optimization\n",
        "> This model is an example of the classic [Markowitz portfolio selection optimization model](https://en.wikipedia.org/wiki/Markowitz_model). We want to find the fraction of the portfolio to invest among a set of stocks that balances risk and return. It is a Quadratic Programming (QP) model with vector and matrix data for returns and risk, respectively.\n",
        "\n",
        "\n",
        "- toc: true \n",
        "- badges: true\n",
        "- hide_binder_badge: true\n",
        "- comments: true\n",
        "- categories: [Investment strategy, Portfolio Optimization, Financial Modelling, Markowitz Portfolio Selection, Risk & Return, Quadratic Programming, Mathematical OPtimization, Gurobi, Python]\n",
        "- image: images/when-did-you-become-an-expert-in-markowitz-portfolio-optimization-last-night.png"
      ],
      "metadata": {
        "id": "aSXb1xy7OIop"
      }
    },
    {
      "cell_type": "markdown",
      "source": [
        "## Problem Statement \n",
        "The expected return and standard deviation of stock 1 are 4% and 3%, respectively. For stock 2, the expected return and standard deviation are 2% and 2%, respectively. For stock 3, the expected return and standard deviation are 1% and 1.5%, respectively. Suppose the correlation between stocks 1 and 2 is 0.2, between stocks\n",
        "1 and 3 0.4, and between stocks 2 and 3 0.1.\n"
      ],
      "metadata": {
        "id": "BZCO8GZySdQ3"
      }
    },
    {
      "cell_type": "markdown",
      "source": [
        "## Model Formulation\n",
        "### Sets & Indices\n",
        "$i ∈ \\text{stock} = \\{1,2,3\\}$: set of stocks\n",
        "### Parameters\n",
        "$\\mu_i ∈ \\mathbb{R}^+$:  expected return of stock $i$\n",
        "\n",
        "$\\sigma_i ∈ \\mathbb{R}^+$:  standard deviation of stock $i$\n",
        "\n",
        "$b ∈ \\mathbb{R}^+$:  the minimum required expected return for the portfolio.\n",
        "\n",
        "### Decision Variables\n",
        "- $x_i$: n-element vector where each element represents the fraction of the porfolio to invest in each stock\n",
        "\n",
        "### Objective Function\n",
        "\\begin{equation}\n",
        "\\text{Minimize} \\sum_{i=1}^{n} \\sum_{j=1}^{n} \\mu_i \\mu_j \\sigma_{ij}  \\tag{0}\n",
        "\\end{equation}\n",
        "\n",
        "### Constraints\n",
        "- **minimum expected return** \n",
        "\n",
        "\\begin{equation}\n",
        "\\sum_{i=1}^{n} \\mu_i x_i \\geq b\n",
        "\\tag{1}\n",
        "\\end{equation}\n",
        "\n",
        "- **total investment** \n",
        "\n",
        "\\begin{equation}\n",
        "\\sum_{i=1}^{n} x_i = 1\n",
        "\\tag{2}\n",
        "\\end{equation}\n",
        "\n",
        "- **not short-selling** \n",
        "\n",
        "\\begin{equation}\n",
        "x_i \\geq 0 \\quad \\forall i \\in \\text{stock}\n",
        "\\tag{3}\n",
        "\\end{equation}\n",
        "\n"
      ],
      "metadata": {
        "id": "N1gVPRyxV6pd"
      }
    },
    {
      "cell_type": "markdown",
      "source": [
        "## 1) Minimum return\n",
        "Find the portfolio with the lowest risk, among those with an expected return of at least 2%"
      ],
      "metadata": {
        "id": "1hgcUkg1TJa8"
      }
    },
    {
      "cell_type": "code",
      "execution_count": 1,
      "metadata": {
        "colab": {
          "base_uri": "https://localhost:8080/"
        },
        "id": "2e1ejQoFN8cF",
        "outputId": "eb16e25e-e15e-442f-a5b3-dfd5173dd26b"
      },
      "outputs": [
        {
          "output_type": "stream",
          "name": "stdout",
          "text": [
            "Collecting gurobipy\n",
            "  Downloading gurobipy-9.5.1-cp37-cp37m-manylinux2014_x86_64.whl (11.5 MB)\n",
            "\u001b[K     |████████████████████████████████| 11.5 MB 4.4 MB/s \n",
            "\u001b[?25hInstalling collected packages: gurobipy\n",
            "Successfully installed gurobipy-9.5.1\n"
          ]
        }
      ],
      "source": [
        "%pip install gurobipy"
      ]
    },
    {
      "cell_type": "code",
      "source": [
        "import gurobipy as gu"
      ],
      "metadata": {
        "id": "JZow8dUWSV2L"
      },
      "execution_count": 2,
      "outputs": []
    },
    {
      "cell_type": "code",
      "source": [
        "# Let us start with defining the vector and matrices that contain the data.\n",
        "\n",
        "n = 3 #number of stocks\n",
        "ExpectedReturn = [0.04, 0.02, 0.01] #vector of expected returns with length n\n",
        "Covariance = [[0.03, 0.00012, 0.00018], [0.00012, 0.02, 0.00003], [0.00018, 0.00003, 0.015]]\n",
        "#covariance matrix with dimension nxn\n",
        "MinReturn = 0.02"
      ],
      "metadata": {
        "id": "sWNH1hKWSbRx"
      },
      "execution_count": 3,
      "outputs": []
    },
    {
      "cell_type": "code",
      "source": [
        "# First, we create the model by function gu.Model(), where “gu” specifies that function Model() is from Gurobi\n",
        "m = gu.Model(\"Portfolio Optimization 1\")"
      ],
      "metadata": {
        "id": "7E2aXSftTOlG",
        "colab": {
          "base_uri": "https://localhost:8080/"
        },
        "outputId": "567889d8-1aa3-46f1-8238-157239bab117"
      },
      "execution_count": 4,
      "outputs": [
        {
          "output_type": "stream",
          "name": "stdout",
          "text": [
            "Restricted license - for non-production use only - expires 2023-10-25\n"
          ]
        }
      ]
    },
    {
      "cell_type": "code",
      "source": [
        "# Let us add the decision variables. Note that \"lb\" indicates the lower bound of the decision variable\n",
        "StockWeight = m.addVars(n, name = 'StockWeight', lb = 0.0, vtype=gu.GRB.CONTINUOUS)"
      ],
      "metadata": {
        "id": "N2L-ABXQTVoP"
      },
      "execution_count": 5,
      "outputs": []
    },
    {
      "cell_type": "code",
      "source": [
        "# Let us add the objective function. Note that “for i in range(n)” indicates the loop from 0 to n-1.\n",
        "m.setObjective(sum(sum(StockWeight[i]*StockWeight[j]*Covariance[i][j] for i in range(n)) for j in range(n)), gu.GRB.MINIMIZE)"
      ],
      "metadata": {
        "id": "1_11-YUXTfbQ"
      },
      "execution_count": 6,
      "outputs": []
    },
    {
      "cell_type": "code",
      "source": [
        "# Let us add the constaints.\n",
        "m.addConstr(sum(StockWeight[i] for i in range(n)) == 1, name = 'SumofWeights')\n",
        "m.addConstr(sum(StockWeight[i]*ExpectedReturn[i] for i in range(n)) >= MinReturn, name = 'ConstraintonMinReturn')"
      ],
      "metadata": {
        "colab": {
          "base_uri": "https://localhost:8080/"
        },
        "id": "5wRftbGDTxoZ",
        "outputId": "1fda6033-7352-4e1e-cd21-16cfa153691e"
      },
      "execution_count": 7,
      "outputs": [
        {
          "output_type": "execute_result",
          "data": {
            "text/plain": [
              "<gurobi.Constr *Awaiting Model Update*>"
            ]
          },
          "metadata": {},
          "execution_count": 7
        }
      ]
    },
    {
      "cell_type": "code",
      "source": [
        "m.optimize()"
      ],
      "metadata": {
        "colab": {
          "base_uri": "https://localhost:8080/"
        },
        "id": "aAAQkFfOT61Q",
        "outputId": "037d244d-5bc5-447f-ee5a-8a030a6a76cc"
      },
      "execution_count": 8,
      "outputs": [
        {
          "output_type": "stream",
          "name": "stdout",
          "text": [
            "Gurobi Optimizer version 9.5.1 build v9.5.1rc2 (linux64)\n",
            "Thread count: 1 physical cores, 2 logical processors, using up to 2 threads\n",
            "Optimize a model with 2 rows, 3 columns and 6 nonzeros\n",
            "Model fingerprint: 0x390fa4c2\n",
            "Model has 6 quadratic objective terms\n",
            "Coefficient statistics:\n",
            "  Matrix range     [1e-02, 1e+00]\n",
            "  Objective range  [0e+00, 0e+00]\n",
            "  QObjective range [1e-04, 6e-02]\n",
            "  Bounds range     [0e+00, 0e+00]\n",
            "  RHS range        [2e-02, 1e+00]\n",
            "Presolve time: 0.02s\n",
            "Presolved: 2 rows, 3 columns, 6 nonzeros\n",
            "Presolved model has 6 quadratic objective terms\n",
            "Ordering time: 0.00s\n",
            "\n",
            "Barrier statistics:\n",
            " Free vars  : 2\n",
            " AA' NZ     : 6.000e+00\n",
            " Factor NZ  : 1.000e+01\n",
            " Factor Ops : 3.000e+01 (less than 1 second per iteration)\n",
            " Threads    : 1\n",
            "\n",
            "                  Objective                Residual\n",
            "Iter       Primal          Dual         Primal    Dual     Compl     Time\n",
            "   0   3.20152377e+05 -3.20152377e+05  2.50e+03 2.47e-07  1.00e+06     0s\n",
            "   1   1.15177644e+04 -1.17907196e+04  1.97e+02 1.95e-08  8.42e+04     0s\n",
            "   2   4.34195814e-02 -3.58271785e+02  6.80e-01 6.72e-11  3.82e+02     0s\n",
            "   3   6.98591118e-03 -1.98336951e+02  6.80e-07 6.94e-17  4.96e+01     0s\n",
            "   4   6.98585719e-03 -1.92714187e-01  4.66e-12 0.00e+00  4.99e-02     0s\n",
            "   5   6.95633171e-03  5.66424294e-03  1.48e-14 0.00e+00  3.23e-04     0s\n",
            "   6   6.75813420e-03  6.68576945e-03  6.94e-17 6.94e-18  1.81e-05     0s\n",
            "   7   6.73329099e-03  6.72497295e-03  3.41e-15 2.74e-18  2.08e-06     0s\n",
            "   8   6.72958274e-03  6.72842709e-03  1.83e-14 1.25e-18  2.89e-07     0s\n",
            "   9   6.72896822e-03  6.72882136e-03  5.30e-14 6.94e-18  3.67e-08     0s\n",
            "  10   6.72886123e-03  6.72885109e-03  6.70e-14 2.74e-19  2.54e-09     0s\n",
            "  11   6.72885183e-03  6.72885180e-03  1.17e-13 6.94e-18  6.72e-12     0s\n",
            "\n",
            "Barrier solved model in 11 iterations and 0.05 seconds (0.00 work units)\n",
            "Optimal objective 6.72885183e-03\n",
            "\n"
          ]
        }
      ]
    },
    {
      "cell_type": "code",
      "source": [
        "# Let us have a look at the solution.\n",
        "var = m.getVars()\n",
        "for i in range(n):\n",
        "  print(var[i].varName, var[i].x)"
      ],
      "metadata": {
        "colab": {
          "base_uri": "https://localhost:8080/"
        },
        "id": "Z5euJbbET_ol",
        "outputId": "2d29b182-19fd-4ba0-f05d-d7c20c1670b4"
      },
      "execution_count": 9,
      "outputs": [
        {
          "output_type": "stream",
          "name": "stdout",
          "text": [
            "StockWeight[0] 0.221851545261853\n",
            "StockWeight[1] 0.3344459277157383\n",
            "StockWeight[2] 0.4437025270221763\n"
          ]
        }
      ]
    },
    {
      "cell_type": "code",
      "source": [
        "print('Objective function', m.objVal)"
      ],
      "metadata": {
        "colab": {
          "base_uri": "https://localhost:8080/"
        },
        "id": "EIByC6y_UInu",
        "outputId": "41e038fd-a9e3-4f15-8052-8821d208c05b"
      },
      "execution_count": 10,
      "outputs": [
        {
          "output_type": "stream",
          "name": "stdout",
          "text": [
            "Objective function 0.00672885182871444\n"
          ]
        }
      ]
    },
    {
      "cell_type": "markdown",
      "source": [
        "## 2) What if we cannot invest more than half of our money in stocks 1 and 2?\n",
        "To answer part 2, we need to add a new constraint involving stocks’ 1 and 2 decision variables."
      ],
      "metadata": {
        "id": "I05lmX-74Z3d"
      }
    },
    {
      "cell_type": "markdown",
      "source": [
        "### Parameters\n",
        "$a ∈ \\mathbb{R}^+$:  the maximum required investment for the stock 1 and 2.\n",
        "\n",
        "### Constraints\n",
        "- **Maximum investment** \n",
        "\n",
        "\\begin{equation}\n",
        "x_1 + x_2 = a\n",
        "\\tag{1}\n",
        "\\end{equation}\n"
      ],
      "metadata": {
        "id": "KoWQhjVI41gU"
      }
    },
    {
      "cell_type": "code",
      "source": [
        "# Let us start with defining the vector and matrices that contain the data.\n",
        "MaxInvest = 0.5"
      ],
      "metadata": {
        "id": "bc_taeam5jQj"
      },
      "execution_count": 11,
      "outputs": []
    },
    {
      "cell_type": "code",
      "source": [
        "# Let us add the constaints.\n",
        "m.addConstr(StockWeight[0] + StockWeight[1] == MaxInvest, name = 'MaxInvest')"
      ],
      "metadata": {
        "id": "58PM5CRJ5wxY",
        "colab": {
          "base_uri": "https://localhost:8080/"
        },
        "outputId": "39c2f5cb-6ec0-4b36-d4a3-91d85c8d2ae3"
      },
      "execution_count": 12,
      "outputs": [
        {
          "output_type": "execute_result",
          "data": {
            "text/plain": [
              "<gurobi.Constr *Awaiting Model Update*>"
            ]
          },
          "metadata": {},
          "execution_count": 12
        }
      ]
    },
    {
      "cell_type": "code",
      "source": [
        "m.optimize()"
      ],
      "metadata": {
        "colab": {
          "base_uri": "https://localhost:8080/"
        },
        "id": "w0fJp0BGOYUk",
        "outputId": "1bc712a3-2110-4c2b-d4cb-5d5b0db9660f"
      },
      "execution_count": 13,
      "outputs": [
        {
          "output_type": "stream",
          "name": "stdout",
          "text": [
            "Gurobi Optimizer version 9.5.1 build v9.5.1rc2 (linux64)\n",
            "Thread count: 1 physical cores, 2 logical processors, using up to 2 threads\n",
            "Optimize a model with 3 rows, 3 columns and 8 nonzeros\n",
            "Model fingerprint: 0xb98dfd3d\n",
            "Model has 6 quadratic objective terms\n",
            "Coefficient statistics:\n",
            "  Matrix range     [1e-02, 1e+00]\n",
            "  Objective range  [0e+00, 0e+00]\n",
            "  QObjective range [1e-04, 6e-02]\n",
            "  Bounds range     [0e+00, 0e+00]\n",
            "  RHS range        [2e-02, 1e+00]\n",
            "Presolve time: 0.02s\n",
            "Presolved: 3 rows, 3 columns, 8 nonzeros\n",
            "Presolved model has 6 quadratic objective terms\n",
            "Ordering time: 0.00s\n",
            "\n",
            "Barrier statistics:\n",
            " Free vars  : 2\n",
            " AA' NZ     : 1.000e+01\n",
            " Factor NZ  : 1.500e+01\n",
            " Factor Ops : 5.500e+01 (less than 1 second per iteration)\n",
            " Threads    : 1\n",
            "\n",
            "                  Objective                Residual\n",
            "Iter       Primal          Dual         Primal    Dual     Compl     Time\n",
            "   0   3.20072058e+05 -3.20072058e+05  2.50e+03 6.01e-02  1.00e+06     0s\n",
            "   1   4.83954583e+03 -5.08987963e+03  2.54e+02 6.11e-03  1.05e+05     0s\n",
            "   2   3.32693448e-02 -3.05887397e+02  5.42e-01 1.30e-05  3.01e+02     0s\n",
            "   3   6.97658803e-03 -1.15906961e+02  5.42e-07 1.30e-11  2.90e+01     0s\n",
            "   4   6.97658263e-03 -1.09052744e-01  5.43e-13 1.35e-14  2.90e-02     0s\n",
            "   5   6.97397122e-03  6.75207038e-03  1.11e-15 1.04e-16  5.55e-05     0s\n",
            "   6   6.94299555e-03  6.94200376e-03  1.11e-16 6.94e-18  2.48e-07     0s\n",
            "   7   6.94250050e-03  6.94249950e-03  8.33e-16 6.94e-18  2.48e-10     0s\n",
            "\n",
            "Barrier solved model in 7 iterations and 0.05 seconds (0.00 work units)\n",
            "Optimal objective 6.94250050e-03\n",
            "\n"
          ]
        }
      ]
    },
    {
      "cell_type": "code",
      "source": [
        "# Let us have a look at the solution.\n",
        "var = m.getVars()\n",
        "for i in range(n):\n",
        "  print(var[i].varName, var[i].x)"
      ],
      "metadata": {
        "colab": {
          "base_uri": "https://localhost:8080/"
        },
        "id": "4LZL1dr1OZn0",
        "outputId": "2f43ebd5-1b45-476c-9d04-e2f240eb03fa"
      },
      "execution_count": 14,
      "outputs": [
        {
          "output_type": "stream",
          "name": "stdout",
          "text": [
            "StockWeight[0] 0.25000009613332785\n",
            "StockWeight[1] 0.24999990386667328\n",
            "StockWeight[2] 0.5000000000000022\n"
          ]
        }
      ]
    },
    {
      "cell_type": "code",
      "source": [
        "print('Objective function', m.objVal)"
      ],
      "metadata": {
        "colab": {
          "base_uri": "https://localhost:8080/"
        },
        "id": "V1gS59IDizkI",
        "outputId": "c8f2d179-ef21-45eb-9e13-90dc72228eb7"
      },
      "execution_count": 19,
      "outputs": [
        {
          "output_type": "stream",
          "name": "stdout",
          "text": [
            "Objective function 0.006942500495087108\n"
          ]
        }
      ]
    }
  ]
}